{
 "cells": [
  {
   "cell_type": "code",
   "execution_count": 11,
   "metadata": {
    "collapsed": false
   },
   "outputs": [
    {
     "name": "stdout",
     "output_type": "stream",
     "text": [
      "Reading ../data/geuvadis_CEU_YRI_test_data/Geuvadis_chr1.bim... done (0.01 s)\n",
      "Reading ../data/geuvadis_CEU_YRI_test_data/Geuvadis_chr1.fam... done (0.00 s)\n",
      "Reading ../data/geuvadis_CEU_YRI_test_data/Geuvadis_chr1.bed... done (0.00 s)\n"
     ]
    }
   ],
   "source": [
    "import pandas as pd\n",
    "import numpy as np\n",
    "import limix\n",
    "from load_genotypes import load_genotypes_plink\n",
    "from generate_kinship import generate_kinship\n",
    "from matplotlib.pyplot import *\n",
    "%matplotlib inline\n",
    "\n",
    "covariates_filename = '../data/geuvadis_CEU_YRI_test_data/Geuvadis_CEU_YRI_covariates.txt'\n",
    "geno_prefix = '../data/geuvadis_CEU_YRI_test_data/Geuvadis_chr1'\n",
    "pheno_filename = '../data/geuvadis_CEU_YRI_test_data/Geuvadis_CEU_YRI_Expr.txt'\n",
    "anno_filename = '../data/geuvadis_CEU_YRI_test_data/Geuvadis_CEU_YRI_Annot.txt'\n",
    "\n",
    "covariate_df = pd.read_csv(covariates_filename,sep='\\t',index_col=0)\n",
    "\n",
    "kinship_df = pd.read_csv('../data/geuvadis_CEU_YRI_test_data/Geuvadis_chr1_kinship.txt',sep='\\t',index_col=0)\n",
    "\n",
    "bim,fam,bed = limix.io.read_plink(geno_prefix)\n",
    "fam.set_index('iid',inplace=True)\n",
    "\n",
    "phenotype_df = pd.read_csv(pheno_filename,sep='\\t',index_col=0)\n",
    "annotation_df = pd.read_csv(anno_filename,sep='\\t',index_col=1)\n",
    "individual2sample_df = pd.read_csv('../data/geuvadis_CEU_YRI_test_data/Geuvadis_CEU_gte.txt',sep='\\t',header=None,names=['ID','Sample'],index_col=0)"
   ]
  },
  {
   "cell_type": "code",
   "execution_count": 18,
   "metadata": {
    "collapsed": false
   },
   "outputs": [],
   "source": [
    "qtl_results_df = pd.DataFrame(columns=['feature_id','snp_id','p_value','beta'])\n",
    "\n",
    "ws = 250000\n",
    "feature_list = list(set(annotation_df.index)&set(phenotype_df.index))\n",
    "\n",
    "for feature_id in feature_list:\n",
    "    \n",
    "    chrom = str(annotation_df.loc[feature_id,'Chromosome Name'])\n",
    "    start = annotation_df.loc[feature_id,'Gene Start (bp)']\n",
    "    end = annotation_df.loc[feature_id,'Gene End (bp)']\n",
    "    center_pos = start + (start-end)/2\n",
    "    cis = bim.query(\"chrom == '%s' & pos > %d & pos < %d\" % (chrom, center_pos-ws, center_pos+ws))\n",
    "    snp_idxs = cis['i'].values\n",
    "    snp_names = cis['snp'].values\n",
    "\n",
    "    #make sure to only look up the non NA valued samples for this feature.\n",
    "    \n",
    "    #indices for relevant individuals in genotype matrix\n",
    "    individual_ids = list(set(fam.index)&set(individual2sample_df.index))\n",
    "    individual_idxs = fam.loc[individual_ids,'i'].values\n",
    "\n",
    "    #subset genotype matrix and kinship matrix\n",
    "    snps = bed[snp_idxs,:].compute().transpose()\n",
    "    if len(snps) == 0:\n",
    "        continue\n",
    "    snps = snps[individual_idxs,:]\n",
    "    \n",
    "    kinship_mat = kinship_df.loc[individual_ids,individual_ids].as_matrix()\n",
    "\n",
    "    #map individual_ids to samples\n",
    "    sample_ids = individual2sample_df.loc[individual_ids,'Sample'].values\n",
    "    phenotype = phenotype_df.loc[feature_id,sample_ids].as_matrix()\n",
    "    \n",
    "    \n",
    "    #generate covariate matrix\n",
    "    cov_matrix = np.concatenate([np.ones((len(sample_ids),1)),covariate_df.loc[sample_ids,:].as_matrix()],axis=1)\n",
    "    \n",
    "    #fit model\n",
    "    LMM = limix.qtl.qtl_test_lmm(snps, phenotype,K=kinship_mat)\n",
    "    \n",
    "    #add these results to qtl_results\n",
    "\n",
    "    temp_df = pd.DataFrame(index = range(len(snp_names)),columns=['feature_id','snp_id','p_value','beta'])\n",
    "    temp_df['snp_id'] = snp_names\n",
    "    temp_df['feature_id'] = feature_id\n",
    "    temp_df['beta'] = LMM.getBetaSNP()[0]\n",
    "    temp_df['p_value'] = LMM.getPv()[0]\n",
    "    qtl_results_df = qtl_results_df.append(temp_df, ignore_index=True)"
   ]
  },
  {
   "cell_type": "code",
   "execution_count": 20,
   "metadata": {
    "collapsed": false
   },
   "outputs": [
    {
     "data": {
      "text/html": [
       "<div>\n",
       "<style>\n",
       "    .dataframe thead tr:only-child th {\n",
       "        text-align: right;\n",
       "    }\n",
       "\n",
       "    .dataframe thead th {\n",
       "        text-align: left;\n",
       "    }\n",
       "\n",
       "    .dataframe tbody tr th {\n",
       "        vertical-align: top;\n",
       "    }\n",
       "</style>\n",
       "<table border=\"1\" class=\"dataframe\">\n",
       "  <thead>\n",
       "    <tr style=\"text-align: right;\">\n",
       "      <th></th>\n",
       "      <th>feature_id</th>\n",
       "      <th>snp_id</th>\n",
       "      <th>p_value</th>\n",
       "      <th>beta</th>\n",
       "    </tr>\n",
       "  </thead>\n",
       "  <tbody>\n",
       "    <tr>\n",
       "      <th>1875</th>\n",
       "      <td>ENSG00000049247</td>\n",
       "      <td>snp_1_7960311</td>\n",
       "      <td>3.117172e-37</td>\n",
       "      <td>-5.648187</td>\n",
       "    </tr>\n",
       "    <tr>\n",
       "      <th>13158</th>\n",
       "      <td>ENSG00000189339</td>\n",
       "      <td>snp_1_1590681</td>\n",
       "      <td>6.516004e-18</td>\n",
       "      <td>-0.439467</td>\n",
       "    </tr>\n",
       "    <tr>\n",
       "      <th>13159</th>\n",
       "      <td>ENSG00000189339</td>\n",
       "      <td>snp_1_1602536</td>\n",
       "      <td>1.094289e-17</td>\n",
       "      <td>-0.443429</td>\n",
       "    </tr>\n",
       "    <tr>\n",
       "      <th>15738</th>\n",
       "      <td>ENSG00000226969</td>\n",
       "      <td>snp_1_1925338</td>\n",
       "      <td>1.183960e-18</td>\n",
       "      <td>-1.351371</td>\n",
       "    </tr>\n",
       "  </tbody>\n",
       "</table>\n",
       "</div>"
      ],
      "text/plain": [
       "            feature_id         snp_id       p_value      beta\n",
       "1875   ENSG00000049247  snp_1_7960311  3.117172e-37 -5.648187\n",
       "13158  ENSG00000189339  snp_1_1590681  6.516004e-18 -0.439467\n",
       "13159  ENSG00000189339  snp_1_1602536  1.094289e-17 -0.443429\n",
       "15738  ENSG00000226969  snp_1_1925338  1.183960e-18 -1.351371"
      ]
     },
     "execution_count": 20,
     "metadata": {},
     "output_type": "execute_result"
    }
   ],
   "source": [
    "qtl_results_df[qtl_results_df['p_value']<1e-14]"
   ]
  },
  {
   "cell_type": "code",
   "execution_count": 13,
   "metadata": {
    "collapsed": false
   },
   "outputs": [],
   "source": [
    "qtl_results_df.set_index(['feature_id','snp_id'],inplace=True)"
   ]
  },
  {
   "cell_type": "code",
   "execution_count": 14,
   "metadata": {
    "collapsed": false
   },
   "outputs": [],
   "source": [
    "molgenis_results_df = pd.read_csv('../data/geuvadis_CEU_YRI_test_data/TestOutput/Cis-CEU-eQTLsFDR0.05.txt',sep='\\t')\n",
    "molgenis_results_df['beta'] = molgenis_results_df['Beta (SE)'].map(lambda x: float(x.split()[0]))\n",
    "molgenis_results_df['p_value'] = molgenis_results_df['PValue']\n",
    "molgenis_results_df.set_index(['ProbeName','SNPName'],inplace=True)"
   ]
  },
  {
   "cell_type": "code",
   "execution_count": 15,
   "metadata": {
    "collapsed": false
   },
   "outputs": [],
   "source": [
    "index = molgenis_results_df.index\n"
   ]
  },
  {
   "cell_type": "code",
   "execution_count": 16,
   "metadata": {
    "collapsed": false
   },
   "outputs": [
    {
     "data": {
      "text/plain": [
       "<matplotlib.text.Text at 0x1036d5390>"
      ]
     },
     "execution_count": 16,
     "metadata": {},
     "output_type": "execute_result"
    },
    {
     "data": {
      "image/png": "[encoded data removed]",
      "text/plain": [
       "<matplotlib.figure.Figure at 0x10f29ea10>"
      ]
     },
     "metadata": {},
     "output_type": "display_data"
    }
   ],
   "source": [
    "index = list(set(molgenis_results_df.index) & set(qtl_results_df.index))\n",
    "\n",
    "plot(-np.log10(qtl_results_df.loc[index,'p_value']),-np.log10(molgenis_results_df.loc[index,'p_value']),'o')\n",
    "\n",
    "FS = 18\n",
    "title('-log10(Pval)',fontsize=FS+2)\n",
    "xlabel('limix',fontsize=FS)\n",
    "ylabel('Molgenis',fontsize=FS)"
   ]
  },
  {
   "cell_type": "code",
   "execution_count": 17,
   "metadata": {
    "collapsed": false
   },
   "outputs": [
    {
     "data": {
      "text/plain": [
       "<matplotlib.text.Text at 0x1129f7690>"
      ]
     },
     "execution_count": 17,
     "metadata": {},
     "output_type": "execute_result"
    },
    {
     "data": {
      "image/png": "[encoded data removed]",
      "text/plain": [
       "<matplotlib.figure.Figure at 0x10eb427d0>"
      ]
     },
     "metadata": {},
     "output_type": "display_data"
    }
   ],
   "source": [
    "plot(qtl_results_df.loc[index,'beta'],molgenis_results_df.loc[index,'beta'],'o')\n",
    "\n",
    "FS = 18\n",
    "title('Beta',fontsize=FS+2)\n",
    "xlabel('limix',fontsize=FS)\n",
    "ylabel('Molgenis',fontsize=FS)"
   ]
  },
  {
   "cell_type": "code",
   "execution_count": null,
   "metadata": {
    "collapsed": true
   },
   "outputs": [],
   "source": []
  },
  {
   "cell_type": "code",
   "execution_count": null,
   "metadata": {
    "collapsed": true
   },
   "outputs": [],
   "source": []
  }
 ],
 "metadata": {
  "kernelspec": {
   "display_name": "limix_env",
   "language": "python",
   "name": "limix_env"
  },
  "language_info": {
   "codemirror_mode": {
    "name": "ipython",
    "version": 2
   },
   "file_extension": ".py",
   "mimetype": "text/x-python",
   "name": "python",
   "nbconvert_exporter": "python",
   "pygments_lexer": "ipython2",
   "version": "2.7.13"
  }
 },
 "nbformat": 4,
 "nbformat_minor": 2
}
