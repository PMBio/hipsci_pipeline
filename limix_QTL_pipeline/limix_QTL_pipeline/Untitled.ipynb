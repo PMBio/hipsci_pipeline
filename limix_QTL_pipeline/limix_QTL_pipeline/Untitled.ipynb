{
 "cells": [
  {
   "cell_type": "code",
   "execution_count": 1,
   "metadata": {
    "collapsed": false
   },
   "outputs": [
    {
     "name": "stdout",
     "output_type": "stream",
     "text": [
      "Reading ../data/geuvadis_test_data/Geuvadis_chr1.bim... done (0.01 s)\n",
      "Reading ../data/geuvadis_test_data/Geuvadis_chr1.fam... done (0.00 s)\n",
      "Reading ../data/geuvadis_test_data/Geuvadis_chr1.bed... done (0.00 s)\n"
     ]
    }
   ],
   "source": [
    "import pandas as pd\n",
    "import numpy as np\n",
    "import limix\n",
    "from load_genotypes import load_genotypes_plink\n",
    "from generate_kinship import generate_kinship\n",
    "from matplotlib.pyplot import *\n",
    "%matplotlib inline\n",
    "\n",
    "\n",
    "geno_prefix = '../data/geuvadis_test_data/Geuvadis_chr1'\n",
    "pheno_filename = '../data/geuvadis_test_data/Geuvadis_CEU_YRI_Expr.txt'\n",
    "anno_filename = '../data/geuvadis_test_data/Geuvadis_CEU_YRI_Annot.txt'\n",
    "\n",
    "bim,genotype_mat = load_genotypes_plink(geno_prefix)\n",
    "kinship = generate_kinship(genotype_mat)\n",
    "\n",
    "bim,fam,bed = limix.io.read_plink(geno_prefix)\n",
    "fam.set_index('iid',inplace=True)\n",
    "\n",
    "phenotype_df = pd.read_csv(pheno_filename,sep='\\t',index_col=0)\n",
    "annotation_df = pd.read_csv(anno_filename,sep='\\t',index_col=1)\n",
    "phen_mapping_df = pd.read_csv('../data/geuvadis_test_data/Geuvadis_CEU_gte.txt',sep='\\t',header=None,names=['ID','Sample'],index_col=0)"
   ]
  },
  {
   "cell_type": "code",
   "execution_count": 128,
   "metadata": {
    "collapsed": false
   },
   "outputs": [],
   "source": [
    "qtl_results_df = pd.DataFrame(columns=['feature_id','snp_id','p_value','beta'])\n",
    "\n",
    "ws = 100000\n",
    "\n",
    "# #indices for relevant snps in genotype matrix\n",
    "# gene_id = 'ENSG00000189339'\n",
    "# # gene_id = 'ENSG00000227775'\n",
    "# # gene_id = 'ENSG00000268575'\n",
    "# gene_id = 'ENSG00000266075'\n",
    "feature_list = ['ENSG00000266075']\n",
    "# for feature_id in annotation_df.index:\n",
    "\n",
    "for feature_id in feature_list:\n",
    "    \n",
    "    chrom = str(annotation_df.loc[feature_id,'Chromosome Name'])\n",
    "    start = annotation_df.loc[feature_id,'Gene Start (bp)']\n",
    "    end = annotation_df.loc[feature_id,'Gene End (bp)']\n",
    "    cis = bim.query(\"chrom == '%s' & pos > %d & pos < %d\" % (chrom, start-ws, end+ws))\n",
    "    snp_idxs = cis['i'].values\n",
    "    snp_names = cis['snp'].values\n",
    "\n",
    "    #indices for relevant individuals in genotype matrix\n",
    "    individual_ids = list(set(fam.index)&set(phen_mapping_df.index))\n",
    "    individual_idxs = fam.loc[individual_ids,'i'].values\n",
    "\n",
    "    #subset genotype matrix and kinship matrix\n",
    "    snps = bed[snp_idxs,:].compute().transpose()\n",
    "    if len(snps) == 0:\n",
    "        continue\n",
    "    snps = snps[individual_idxs,:]\n",
    "        \n",
    "    kinship_mat = kinship[individual_idxs,:][:,individual_idxs]\n",
    "\n",
    "    #map individual_ids to samples\n",
    "    sample_ids = phen_mapping_df.loc[individual_ids,'Sample'].values\n",
    "    phenotype = phenotype_df.loc[gene_id,sample_ids].as_matrix()\n",
    "    \n",
    "    #fit model\n",
    "    LMM = limix.qtl.qtl_test_lmm(snps, phenotype,K=kinship_mat)\n",
    "    \n",
    "    #add these results to qtl_results\n",
    "\n",
    "    temp_df = pd.DataFrame(index = range(len(snp_names)),columns=['feature_id','snp_id','p_value','beta'])\n",
    "    temp_df['snp_id'] = snp_names\n",
    "    temp_df['feature_id'] = feature_id\n",
    "    temp_df['beta'] = LMM.getBetaSNP()[0]\n",
    "    temp_df['p_value'] = LMM.getPv()[0]\n",
    "    qtl_results_df = qtl_results_df.append(temp_df, ignore_index=True)"
   ]
  },
  {
   "cell_type": "code",
   "execution_count": null,
   "metadata": {
    "collapsed": false
   },
   "outputs": [],
   "source": []
  },
  {
   "cell_type": "code",
   "execution_count": 129,
   "metadata": {
    "collapsed": false
   },
   "outputs": [],
   "source": [
    "qtl_results_df.set_index(['feature_id','snp_id'],inplace=True)"
   ]
  },
  {
   "cell_type": "code",
   "execution_count": 130,
   "metadata": {
    "collapsed": false
   },
   "outputs": [],
   "source": [
    "molgenis_results_df = pd.read_csv('../data/geuvadis_test_data/TestOutput/Cis-CEU-eQTLsFDR0.05.txt',sep='\\t')\n",
    "molgenis_results_df['beta'] = molgenis_results_df['Beta (SE)'].map(lambda x: float(x.split()[0]))\n",
    "molgenis_results_df['p_value'] = molgenis_results_df['PValue']\n",
    "molgenis_results_df.set_index(['ProbeName','SNPName'],inplace=True)"
   ]
  },
  {
   "cell_type": "code",
   "execution_count": 131,
   "metadata": {
    "collapsed": false
   },
   "outputs": [],
   "source": [
    "index = molgenis_results_df.index\n"
   ]
  },
  {
   "cell_type": "code",
   "execution_count": null,
   "metadata": {
    "collapsed": false,
    "scrolled": true
   },
   "outputs": [],
   "source": []
  },
  {
   "cell_type": "code",
   "execution_count": 132,
   "metadata": {
    "collapsed": false
   },
   "outputs": [
    {
     "data": {
      "text/plain": [
       "<matplotlib.text.Text at 0x11990df50>"
      ]
     },
     "execution_count": 132,
     "metadata": {},
     "output_type": "execute_result"
    },
    {
     "data": {
      "image/png": "[encoded data removed]",
      "text/plain": [
       "<matplotlib.figure.Figure at 0x11894ded0>"
      ]
     },
     "metadata": {},
     "output_type": "display_data"
    }
   ],
   "source": [
    "index = list(set(molgenis_results_df.index) & set(qtl_results_df.index))\n",
    "\n",
    "plot(-np.log10(qtl_results_df.loc[index,'p_value']),-np.log10(molgenis_results_df.loc[index,'p_value']),'o')\n",
    "\n",
    "FS = 18\n",
    "title('-log10(Pval)')\n",
    "xlabel('limix',fontsize=FS)\n",
    "ylabel('Molgenis',fontsize=FS)"
   ]
  },
  {
   "cell_type": "code",
   "execution_count": 133,
   "metadata": {
    "collapsed": false
   },
   "outputs": [
    {
     "data": {
      "text/plain": [
       "<matplotlib.text.Text at 0x119742350>"
      ]
     },
     "execution_count": 133,
     "metadata": {},
     "output_type": "execute_result"
    },
    {
     "data": {
      "image/png": "[encoded data removed]",
      "text/plain": [
       "<matplotlib.figure.Figure at 0x118b20ed0>"
      ]
     },
     "metadata": {},
     "output_type": "display_data"
    }
   ],
   "source": [
    "plot(qtl_results_df.loc[index,'beta'],molgenis_results_df.loc[index,'beta'],'o')\n",
    "\n",
    "FS = 18\n",
    "title('Beta',fontsize=FS+2)\n",
    "xlabel('limix',fontsize=FS)\n",
    "ylabel('Molgenis',fontsize=FS)"
   ]
  },
  {
   "cell_type": "code",
   "execution_count": null,
   "metadata": {
    "collapsed": false
   },
   "outputs": [],
   "source": []
  },
  {
   "cell_type": "code",
   "execution_count": null,
   "metadata": {
    "collapsed": true
   },
   "outputs": [],
   "source": []
  }
 ],
 "metadata": {
  "kernelspec": {
   "display_name": "limix_env",
   "language": "python",
   "name": "limix_env"
  },
  "language_info": {
   "codemirror_mode": {
    "name": "ipython",
    "version": 2
   },
   "file_extension": ".py",
   "mimetype": "text/x-python",
   "name": "python",
   "nbconvert_exporter": "python",
   "pygments_lexer": "ipython2",
   "version": "2.7.13"
  }
 },
 "nbformat": 4,
 "nbformat_minor": 2
}
